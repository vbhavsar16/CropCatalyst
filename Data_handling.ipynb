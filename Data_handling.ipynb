{
 "cells": [
  {
   "cell_type": "code",
   "execution_count": 14,
   "metadata": {},
   "outputs": [],
   "source": [
    "import numpy as np\n",
    "import xarray as xr\n",
    "import pandas as pd"
   ]
  },
  {
   "cell_type": "code",
   "execution_count": 24,
   "metadata": {},
   "outputs": [],
   "source": [
    "nctest = netCDF4.Dataset('Datasets/gdhy_v1.2_v1.3_20190128/rice/yield_2016.nc4')"
   ]
  },
  {
   "cell_type": "code",
   "execution_count": 25,
   "metadata": {},
   "outputs": [
    {
     "data": {
      "text/plain": [
       "dict_keys(['lon', 'lat', 'var'])"
      ]
     },
     "execution_count": 25,
     "metadata": {},
     "output_type": "execute_result"
    }
   ],
   "source": [
    "nctest.variables.keys()"
   ]
  },
  {
   "cell_type": "code",
   "execution_count": 26,
   "metadata": {},
   "outputs": [],
   "source": [
    "lon = nctest.variables['lon']\n",
    "lat = nctest.variables['lat']\n",
    "yields = nctest.variables['var']"
   ]
  },
  {
   "cell_type": "code",
   "execution_count": 3,
   "metadata": {},
   "outputs": [],
   "source": [
    "import nctoolkit as nc\n",
    "from netCDF4 import Dataset"
   ]
  },
  {
   "cell_type": "code",
   "execution_count": 4,
   "metadata": {},
   "outputs": [],
   "source": [
    "file_name = 'Datasets/gdhy_v1.2_v1.3_20190128/rice/yield_2016.nc4'"
   ]
  },
  {
   "cell_type": "code",
   "execution_count": 5,
   "metadata": {},
   "outputs": [],
   "source": [
    "file_id = Dataset(file_name)"
   ]
  },
  {
   "cell_type": "code",
   "execution_count": 6,
   "metadata": {},
   "outputs": [],
   "source": [
    "#ds = nc.open_data('Datasets/gdhy_v1.2_v1.3_20190128/rice/yield_2016.nc4')\n",
    "#ds.tmean()\n",
    "#df = ds.to_dataframe()\n"
   ]
  },
  {
   "cell_type": "code",
   "execution_count": 10,
   "metadata": {},
   "outputs": [],
   "source": [
    "lon = file_id.variables['lon'][:]\n",
    "lat = file_id.variables['lat'][:]\n",
    "var = file_id.variables['var'][:]"
   ]
  },
  {
   "cell_type": "code",
   "execution_count": 27,
   "metadata": {},
   "outputs": [
    {
     "data": {
      "text/plain": [
       "('lat', 'lon')"
      ]
     },
     "execution_count": 27,
     "metadata": {},
     "output_type": "execute_result"
    }
   ],
   "source": [
    "file_id.variables['var'].dimensions"
   ]
  },
  {
   "cell_type": "code",
   "execution_count": 19,
   "metadata": {},
   "outputs": [
    {
     "name": "stdout",
     "output_type": "stream",
     "text": [
      "0.25\n",
      "359.75\n",
      "(720,)\n"
     ]
    }
   ],
   "source": [
    "print(np.min(lon))\n",
    "print(np.max(lon))\n",
    "print(lon.shape)"
   ]
  },
  {
   "cell_type": "code",
   "execution_count": 20,
   "metadata": {},
   "outputs": [
    {
     "name": "stdout",
     "output_type": "stream",
     "text": [
      "-89.75\n",
      "89.75\n",
      "(360,)\n"
     ]
    }
   ],
   "source": [
    "print(np.min(lat))\n",
    "print(np.max(lat))\n",
    "print(lat.shape)\n"
   ]
  },
  {
   "cell_type": "code",
   "execution_count": 21,
   "metadata": {},
   "outputs": [
    {
     "name": "stdout",
     "output_type": "stream",
     "text": [
      "0.0\n",
      "25.44142\n",
      "(360, 720)\n"
     ]
    }
   ],
   "source": [
    "print(np.min(var))\n",
    "print(np.max(var))\n",
    "print(var.shape)"
   ]
  },
  {
   "cell_type": "code",
   "execution_count": 22,
   "metadata": {},
   "outputs": [],
   "source": [
    "lons, lats = np.meshgrid(lon, lat)"
   ]
  },
  {
   "cell_type": "code",
   "execution_count": 28,
   "metadata": {},
   "outputs": [
    {
     "data": {
      "text/plain": [
       "(360, 720)"
      ]
     },
     "execution_count": 28,
     "metadata": {},
     "output_type": "execute_result"
    }
   ],
   "source": [
    "lats.shape"
   ]
  },
  {
   "cell_type": "code",
   "execution_count": 59,
   "metadata": {},
   "outputs": [],
   "source": [
    "lon_all = lons.reshape(-1,)"
   ]
  },
  {
   "cell_type": "code",
   "execution_count": 60,
   "metadata": {},
   "outputs": [
    {
     "data": {
      "text/plain": [
       "(259200,)"
      ]
     },
     "execution_count": 60,
     "metadata": {},
     "output_type": "execute_result"
    }
   ],
   "source": [
    "lon_all.shape"
   ]
  },
  {
   "cell_type": "code",
   "execution_count": 51,
   "metadata": {},
   "outputs": [],
   "source": [
    "lon_all = lons.reshape(-1,1)\n",
    "lat_all = lats.reshape(-1,1)\n",
    "yields = var.reshape(-1,1)\n",
    "\n",
    "lon_all = np.squeeze(lon_all)\n",
    "lat_all = np.squeeze(lat_all)\n",
    "yields = np.squeeze(yields)"
   ]
  },
  {
   "cell_type": "code",
   "execution_count": 52,
   "metadata": {},
   "outputs": [
    {
     "data": {
      "text/plain": [
       "(259200,)"
      ]
     },
     "execution_count": 52,
     "metadata": {},
     "output_type": "execute_result"
    }
   ],
   "source": [
    "lon_all.shape"
   ]
  },
  {
   "cell_type": "code",
   "execution_count": 53,
   "metadata": {},
   "outputs": [
    {
     "data": {
      "text/plain": [
       "(259200,)"
      ]
     },
     "execution_count": 53,
     "metadata": {},
     "output_type": "execute_result"
    }
   ],
   "source": [
    "yields.shape"
   ]
  },
  {
   "cell_type": "code",
   "execution_count": 54,
   "metadata": {},
   "outputs": [],
   "source": [
    "df = pd.DataFrame({'longitude': lon_all, 'latitude': lat_all, 'Yield': yields})"
   ]
  },
  {
   "cell_type": "code",
   "execution_count": 55,
   "metadata": {},
   "outputs": [
    {
     "data": {
      "text/html": [
       "<div>\n",
       "<style scoped>\n",
       "    .dataframe tbody tr th:only-of-type {\n",
       "        vertical-align: middle;\n",
       "    }\n",
       "\n",
       "    .dataframe tbody tr th {\n",
       "        vertical-align: top;\n",
       "    }\n",
       "\n",
       "    .dataframe thead th {\n",
       "        text-align: right;\n",
       "    }\n",
       "</style>\n",
       "<table border=\"1\" class=\"dataframe\">\n",
       "  <thead>\n",
       "    <tr style=\"text-align: right;\">\n",
       "      <th></th>\n",
       "      <th>longitude</th>\n",
       "      <th>latitude</th>\n",
       "      <th>Yield</th>\n",
       "    </tr>\n",
       "  </thead>\n",
       "  <tbody>\n",
       "    <tr>\n",
       "      <th>0</th>\n",
       "      <td>0.25</td>\n",
       "      <td>-89.75</td>\n",
       "      <td>NaN</td>\n",
       "    </tr>\n",
       "    <tr>\n",
       "      <th>1</th>\n",
       "      <td>0.75</td>\n",
       "      <td>-89.75</td>\n",
       "      <td>NaN</td>\n",
       "    </tr>\n",
       "    <tr>\n",
       "      <th>2</th>\n",
       "      <td>1.25</td>\n",
       "      <td>-89.75</td>\n",
       "      <td>NaN</td>\n",
       "    </tr>\n",
       "    <tr>\n",
       "      <th>3</th>\n",
       "      <td>1.75</td>\n",
       "      <td>-89.75</td>\n",
       "      <td>NaN</td>\n",
       "    </tr>\n",
       "    <tr>\n",
       "      <th>4</th>\n",
       "      <td>2.25</td>\n",
       "      <td>-89.75</td>\n",
       "      <td>NaN</td>\n",
       "    </tr>\n",
       "  </tbody>\n",
       "</table>\n",
       "</div>"
      ],
      "text/plain": [
       "   longitude  latitude  Yield\n",
       "0       0.25    -89.75    NaN\n",
       "1       0.75    -89.75    NaN\n",
       "2       1.25    -89.75    NaN\n",
       "3       1.75    -89.75    NaN\n",
       "4       2.25    -89.75    NaN"
      ]
     },
     "execution_count": 55,
     "metadata": {},
     "output_type": "execute_result"
    }
   ],
   "source": [
    "df.head()"
   ]
  },
  {
   "cell_type": "code",
   "execution_count": 56,
   "metadata": {},
   "outputs": [
    {
     "data": {
      "text/html": [
       "<div>\n",
       "<style scoped>\n",
       "    .dataframe tbody tr th:only-of-type {\n",
       "        vertical-align: middle;\n",
       "    }\n",
       "\n",
       "    .dataframe tbody tr th {\n",
       "        vertical-align: top;\n",
       "    }\n",
       "\n",
       "    .dataframe thead th {\n",
       "        text-align: right;\n",
       "    }\n",
       "</style>\n",
       "<table border=\"1\" class=\"dataframe\">\n",
       "  <thead>\n",
       "    <tr style=\"text-align: right;\">\n",
       "      <th></th>\n",
       "      <th>longitude</th>\n",
       "      <th>latitude</th>\n",
       "      <th>Yield</th>\n",
       "    </tr>\n",
       "  </thead>\n",
       "  <tbody>\n",
       "    <tr>\n",
       "      <th>74014</th>\n",
       "      <td>287.25</td>\n",
       "      <td>-38.75</td>\n",
       "      <td>7.805690</td>\n",
       "    </tr>\n",
       "    <tr>\n",
       "      <th>74734</th>\n",
       "      <td>287.25</td>\n",
       "      <td>-38.25</td>\n",
       "      <td>8.472213</td>\n",
       "    </tr>\n",
       "    <tr>\n",
       "      <th>74735</th>\n",
       "      <td>287.75</td>\n",
       "      <td>-38.25</td>\n",
       "      <td>9.086303</td>\n",
       "    </tr>\n",
       "    <tr>\n",
       "      <th>75453</th>\n",
       "      <td>286.75</td>\n",
       "      <td>-37.75</td>\n",
       "      <td>12.492006</td>\n",
       "    </tr>\n",
       "    <tr>\n",
       "      <th>75454</th>\n",
       "      <td>287.25</td>\n",
       "      <td>-37.75</td>\n",
       "      <td>11.382429</td>\n",
       "    </tr>\n",
       "    <tr>\n",
       "      <th>...</th>\n",
       "      <td>...</td>\n",
       "      <td>...</td>\n",
       "      <td>...</td>\n",
       "    </tr>\n",
       "    <tr>\n",
       "      <th>201131</th>\n",
       "      <td>125.75</td>\n",
       "      <td>49.75</td>\n",
       "      <td>11.525588</td>\n",
       "    </tr>\n",
       "    <tr>\n",
       "      <th>201132</th>\n",
       "      <td>126.25</td>\n",
       "      <td>49.75</td>\n",
       "      <td>11.951449</td>\n",
       "    </tr>\n",
       "    <tr>\n",
       "      <th>201133</th>\n",
       "      <td>126.75</td>\n",
       "      <td>49.75</td>\n",
       "      <td>9.320266</td>\n",
       "    </tr>\n",
       "    <tr>\n",
       "      <th>201851</th>\n",
       "      <td>125.75</td>\n",
       "      <td>50.25</td>\n",
       "      <td>11.057899</td>\n",
       "    </tr>\n",
       "    <tr>\n",
       "      <th>201852</th>\n",
       "      <td>126.25</td>\n",
       "      <td>50.25</td>\n",
       "      <td>11.297559</td>\n",
       "    </tr>\n",
       "  </tbody>\n",
       "</table>\n",
       "<p>8173 rows × 3 columns</p>\n",
       "</div>"
      ],
      "text/plain": [
       "        longitude  latitude      Yield\n",
       "74014      287.25    -38.75   7.805690\n",
       "74734      287.25    -38.25   8.472213\n",
       "74735      287.75    -38.25   9.086303\n",
       "75453      286.75    -37.75  12.492006\n",
       "75454      287.25    -37.75  11.382429\n",
       "...           ...       ...        ...\n",
       "201131     125.75     49.75  11.525588\n",
       "201132     126.25     49.75  11.951449\n",
       "201133     126.75     49.75   9.320266\n",
       "201851     125.75     50.25  11.057899\n",
       "201852     126.25     50.25  11.297559\n",
       "\n",
       "[8173 rows x 3 columns]"
      ]
     },
     "execution_count": 56,
     "metadata": {},
     "output_type": "execute_result"
    }
   ],
   "source": [
    "df_filtered = df.dropna(subset=['Yield'])\n",
    "df_filtered"
   ]
  },
  {
   "cell_type": "code",
   "execution_count": 57,
   "metadata": {},
   "outputs": [],
   "source": [
    "from netCDF4 import Dataset\n",
    "import os"
   ]
  },
  {
   "cell_type": "code",
   "execution_count": 62,
   "metadata": {},
   "outputs": [],
   "source": [
    "directory = 'Datasets/gdhy_v1.2_v1.3_20190128'\n",
    "folders = ['maize_major','maize_second','rice_major','rice_second','soybean_major','wheat_spring','wheat_winter']\n",
    "file_n = 'yield_2016.nc4'"
   ]
  },
  {
   "cell_type": "code",
   "execution_count": 64,
   "metadata": {},
   "outputs": [],
   "source": [
    "dataframes_list = []"
   ]
  },
  {
   "cell_type": "code",
   "execution_count": 65,
   "metadata": {},
   "outputs": [],
   "source": [
    "for folder_n in folders:\n",
    "    file_path = os.path.join(directory, folder_n, file_n)\n",
    "\n",
    "    file_id = Dataset(file_path)\n",
    "\n",
    "    lon = file_id.variables['lon'][:]\n",
    "    lat = file_id.variables['lat'][:]\n",
    "    var = file_id.variables['var'][:]\n",
    "\n",
    "    lons, lats = np.meshgrid(lon, lat)\n",
    "\n",
    "    lon_all = lons.reshape(-1,)\n",
    "    lat_all = lats.reshape(-1,)\n",
    "    yields = var.reshape(-1,)\n",
    "\n",
    "    df = pd.DataFrame({'longitude': lon_all, 'latitude': lat_all, 'Yield': yields})\n",
    "    \n",
    "    dataframes_list.append(df)\n",
    "\n",
    "    "
   ]
  },
  {
   "cell_type": "code",
   "execution_count": 71,
   "metadata": {},
   "outputs": [],
   "source": [
    "seasons = ['major','second','spring','winter']"
   ]
  },
  {
   "cell_type": "code",
   "execution_count": 72,
   "metadata": {},
   "outputs": [],
   "source": [
    "dataframes_list[0]['crop'] = 'maize'\n",
    "dataframes_list[1]['crop'] = 'maize'\n",
    "dataframes_list[2]['crop'] = 'rice'\n",
    "dataframes_list[3]['crop'] = 'rice'\n",
    "dataframes_list[4]['crop'] = 'soybean'\n",
    "dataframes_list[5]['crop'] = 'wheat'\n",
    "dataframes_list[6]['crop'] = 'wheat'"
   ]
  },
  {
   "cell_type": "code",
   "execution_count": 73,
   "metadata": {},
   "outputs": [],
   "source": [
    "dataframes_list[0]['season'] = seasons[0]\n",
    "dataframes_list[1]['season'] = seasons[1]\n",
    "dataframes_list[2]['season'] = seasons[0]\n",
    "dataframes_list[3]['season'] = seasons[1]\n",
    "dataframes_list[4]['season'] = seasons[0]\n",
    "dataframes_list[5]['season'] = seasons[2]\n",
    "dataframes_list[6]['season'] = seasons[3]"
   ]
  },
  {
   "cell_type": "code",
   "execution_count": 80,
   "metadata": {},
   "outputs": [
    {
     "data": {
      "text/html": [
       "<div>\n",
       "<style scoped>\n",
       "    .dataframe tbody tr th:only-of-type {\n",
       "        vertical-align: middle;\n",
       "    }\n",
       "\n",
       "    .dataframe tbody tr th {\n",
       "        vertical-align: top;\n",
       "    }\n",
       "\n",
       "    .dataframe thead th {\n",
       "        text-align: right;\n",
       "    }\n",
       "</style>\n",
       "<table border=\"1\" class=\"dataframe\">\n",
       "  <thead>\n",
       "    <tr style=\"text-align: right;\">\n",
       "      <th></th>\n",
       "      <th>longitude</th>\n",
       "      <th>latitude</th>\n",
       "      <th>Yield</th>\n",
       "      <th>crop</th>\n",
       "      <th>season</th>\n",
       "    </tr>\n",
       "  </thead>\n",
       "  <tbody>\n",
       "    <tr>\n",
       "      <th>68255</th>\n",
       "      <td>287.75</td>\n",
       "      <td>-42.75</td>\n",
       "      <td>5.905015</td>\n",
       "      <td>wheat</td>\n",
       "      <td>winter</td>\n",
       "    </tr>\n",
       "    <tr>\n",
       "      <th>70413</th>\n",
       "      <td>286.75</td>\n",
       "      <td>-41.25</td>\n",
       "      <td>7.615662</td>\n",
       "      <td>wheat</td>\n",
       "      <td>winter</td>\n",
       "    </tr>\n",
       "    <tr>\n",
       "      <th>70415</th>\n",
       "      <td>287.75</td>\n",
       "      <td>-41.25</td>\n",
       "      <td>5.689150</td>\n",
       "      <td>wheat</td>\n",
       "      <td>winter</td>\n",
       "    </tr>\n",
       "    <tr>\n",
       "      <th>71133</th>\n",
       "      <td>286.75</td>\n",
       "      <td>-40.75</td>\n",
       "      <td>7.876403</td>\n",
       "      <td>wheat</td>\n",
       "      <td>winter</td>\n",
       "    </tr>\n",
       "    <tr>\n",
       "      <th>71134</th>\n",
       "      <td>287.25</td>\n",
       "      <td>-40.75</td>\n",
       "      <td>7.362704</td>\n",
       "      <td>wheat</td>\n",
       "      <td>winter</td>\n",
       "    </tr>\n",
       "    <tr>\n",
       "      <th>...</th>\n",
       "      <td>...</td>\n",
       "      <td>...</td>\n",
       "      <td>...</td>\n",
       "      <td>...</td>\n",
       "      <td>...</td>\n",
       "    </tr>\n",
       "    <tr>\n",
       "      <th>212431</th>\n",
       "      <td>15.75</td>\n",
       "      <td>57.75</td>\n",
       "      <td>8.024502</td>\n",
       "      <td>wheat</td>\n",
       "      <td>winter</td>\n",
       "    </tr>\n",
       "    <tr>\n",
       "      <th>212451</th>\n",
       "      <td>25.75</td>\n",
       "      <td>57.75</td>\n",
       "      <td>2.422267</td>\n",
       "      <td>wheat</td>\n",
       "      <td>winter</td>\n",
       "    </tr>\n",
       "    <tr>\n",
       "      <th>213150</th>\n",
       "      <td>15.25</td>\n",
       "      <td>58.25</td>\n",
       "      <td>7.755891</td>\n",
       "      <td>wheat</td>\n",
       "      <td>winter</td>\n",
       "    </tr>\n",
       "    <tr>\n",
       "      <th>213151</th>\n",
       "      <td>15.75</td>\n",
       "      <td>58.25</td>\n",
       "      <td>7.074670</td>\n",
       "      <td>wheat</td>\n",
       "      <td>winter</td>\n",
       "    </tr>\n",
       "    <tr>\n",
       "      <th>213152</th>\n",
       "      <td>16.25</td>\n",
       "      <td>58.25</td>\n",
       "      <td>7.885511</td>\n",
       "      <td>wheat</td>\n",
       "      <td>winter</td>\n",
       "    </tr>\n",
       "  </tbody>\n",
       "</table>\n",
       "<p>7319 rows × 5 columns</p>\n",
       "</div>"
      ],
      "text/plain": [
       "        longitude  latitude     Yield   crop  season\n",
       "68255      287.75    -42.75  5.905015  wheat  winter\n",
       "70413      286.75    -41.25  7.615662  wheat  winter\n",
       "70415      287.75    -41.25  5.689150  wheat  winter\n",
       "71133      286.75    -40.75  7.876403  wheat  winter\n",
       "71134      287.25    -40.75  7.362704  wheat  winter\n",
       "...           ...       ...       ...    ...     ...\n",
       "212431      15.75     57.75  8.024502  wheat  winter\n",
       "212451      25.75     57.75  2.422267  wheat  winter\n",
       "213150      15.25     58.25  7.755891  wheat  winter\n",
       "213151      15.75     58.25  7.074670  wheat  winter\n",
       "213152      16.25     58.25  7.885511  wheat  winter\n",
       "\n",
       "[7319 rows x 5 columns]"
      ]
     },
     "execution_count": 80,
     "metadata": {},
     "output_type": "execute_result"
    }
   ],
   "source": [
    "dataframes_list[6].dropna(subset=['Yield'])"
   ]
  },
  {
   "cell_type": "code",
   "execution_count": 81,
   "metadata": {},
   "outputs": [],
   "source": [
    "yield_df = pd.DataFrame()\n",
    "\n",
    "for df in dataframes_list:\n",
    "    yield_df = pd.concat([yield_df, df.dropna(subset=['Yield'])], axis=0)"
   ]
  },
  {
   "cell_type": "code",
   "execution_count": 137,
   "metadata": {},
   "outputs": [
    {
     "data": {
      "text/html": [
       "<div>\n",
       "<style scoped>\n",
       "    .dataframe tbody tr th:only-of-type {\n",
       "        vertical-align: middle;\n",
       "    }\n",
       "\n",
       "    .dataframe tbody tr th {\n",
       "        vertical-align: top;\n",
       "    }\n",
       "\n",
       "    .dataframe thead th {\n",
       "        text-align: right;\n",
       "    }\n",
       "</style>\n",
       "<table border=\"1\" class=\"dataframe\">\n",
       "  <thead>\n",
       "    <tr style=\"text-align: right;\">\n",
       "      <th></th>\n",
       "      <th>longitude</th>\n",
       "      <th>latitude</th>\n",
       "      <th>Yield</th>\n",
       "      <th>crop</th>\n",
       "      <th>season</th>\n",
       "    </tr>\n",
       "  </thead>\n",
       "  <tbody>\n",
       "    <tr>\n",
       "      <th>70413</th>\n",
       "      <td>286.75</td>\n",
       "      <td>-41.25</td>\n",
       "      <td>26.728754</td>\n",
       "      <td>maize</td>\n",
       "      <td>major</td>\n",
       "    </tr>\n",
       "    <tr>\n",
       "      <th>71133</th>\n",
       "      <td>286.75</td>\n",
       "      <td>-40.75</td>\n",
       "      <td>25.878883</td>\n",
       "      <td>maize</td>\n",
       "      <td>major</td>\n",
       "    </tr>\n",
       "    <tr>\n",
       "      <th>71134</th>\n",
       "      <td>287.25</td>\n",
       "      <td>-40.75</td>\n",
       "      <td>26.511133</td>\n",
       "      <td>maize</td>\n",
       "      <td>major</td>\n",
       "    </tr>\n",
       "    <tr>\n",
       "      <th>71153</th>\n",
       "      <td>296.75</td>\n",
       "      <td>-40.75</td>\n",
       "      <td>1.549129</td>\n",
       "      <td>maize</td>\n",
       "      <td>major</td>\n",
       "    </tr>\n",
       "    <tr>\n",
       "      <th>71853</th>\n",
       "      <td>286.75</td>\n",
       "      <td>-40.25</td>\n",
       "      <td>22.426491</td>\n",
       "      <td>maize</td>\n",
       "      <td>major</td>\n",
       "    </tr>\n",
       "    <tr>\n",
       "      <th>...</th>\n",
       "      <td>...</td>\n",
       "      <td>...</td>\n",
       "      <td>...</td>\n",
       "      <td>...</td>\n",
       "      <td>...</td>\n",
       "    </tr>\n",
       "    <tr>\n",
       "      <th>212431</th>\n",
       "      <td>15.75</td>\n",
       "      <td>57.75</td>\n",
       "      <td>8.024502</td>\n",
       "      <td>wheat</td>\n",
       "      <td>winter</td>\n",
       "    </tr>\n",
       "    <tr>\n",
       "      <th>212451</th>\n",
       "      <td>25.75</td>\n",
       "      <td>57.75</td>\n",
       "      <td>2.422267</td>\n",
       "      <td>wheat</td>\n",
       "      <td>winter</td>\n",
       "    </tr>\n",
       "    <tr>\n",
       "      <th>213150</th>\n",
       "      <td>15.25</td>\n",
       "      <td>58.25</td>\n",
       "      <td>7.755891</td>\n",
       "      <td>wheat</td>\n",
       "      <td>winter</td>\n",
       "    </tr>\n",
       "    <tr>\n",
       "      <th>213151</th>\n",
       "      <td>15.75</td>\n",
       "      <td>58.25</td>\n",
       "      <td>7.074670</td>\n",
       "      <td>wheat</td>\n",
       "      <td>winter</td>\n",
       "    </tr>\n",
       "    <tr>\n",
       "      <th>213152</th>\n",
       "      <td>16.25</td>\n",
       "      <td>58.25</td>\n",
       "      <td>7.885511</td>\n",
       "      <td>wheat</td>\n",
       "      <td>winter</td>\n",
       "    </tr>\n",
       "  </tbody>\n",
       "</table>\n",
       "<p>41945 rows × 5 columns</p>\n",
       "</div>"
      ],
      "text/plain": [
       "        longitude  latitude      Yield   crop  season\n",
       "70413      286.75    -41.25  26.728754  maize   major\n",
       "71133      286.75    -40.75  25.878883  maize   major\n",
       "71134      287.25    -40.75  26.511133  maize   major\n",
       "71153      296.75    -40.75   1.549129  maize   major\n",
       "71853      286.75    -40.25  22.426491  maize   major\n",
       "...           ...       ...        ...    ...     ...\n",
       "212431      15.75     57.75   8.024502  wheat  winter\n",
       "212451      25.75     57.75   2.422267  wheat  winter\n",
       "213150      15.25     58.25   7.755891  wheat  winter\n",
       "213151      15.75     58.25   7.074670  wheat  winter\n",
       "213152      16.25     58.25   7.885511  wheat  winter\n",
       "\n",
       "[41945 rows x 5 columns]"
      ]
     },
     "execution_count": 137,
     "metadata": {},
     "output_type": "execute_result"
    }
   ],
   "source": [
    "yield_df"
   ]
  },
  {
   "cell_type": "code",
   "execution_count": 83,
   "metadata": {},
   "outputs": [],
   "source": [
    "yield_df.to_csv('Yield_data.csv', index=False)"
   ]
  },
  {
   "cell_type": "code",
   "execution_count": null,
   "metadata": {},
   "outputs": [],
   "source": []
  },
  {
   "cell_type": "code",
   "execution_count": 100,
   "metadata": {},
   "outputs": [],
   "source": [
    "file_id = Dataset('../CRU_mean_temperature_mon_0.5x0.5_global_2016_v4.03.nc')"
   ]
  },
  {
   "cell_type": "code",
   "execution_count": 101,
   "metadata": {},
   "outputs": [
    {
     "data": {
      "text/plain": [
       "dict_keys(['time', 'lon', 'lat', 'tas'])"
      ]
     },
     "execution_count": 101,
     "metadata": {},
     "output_type": "execute_result"
    }
   ],
   "source": [
    "file_id.variables.keys()"
   ]
  },
  {
   "cell_type": "code",
   "execution_count": 116,
   "metadata": {},
   "outputs": [],
   "source": [
    "lon = file_id.variables['lon'][:]\n",
    "lat = file_id.variables['lat'][:]\n",
    "tas = file_id.variables['tas'][:]"
   ]
  },
  {
   "cell_type": "code",
   "execution_count": 117,
   "metadata": {},
   "outputs": [],
   "source": [
    "temp = np.mean(tas, axis=0)"
   ]
  },
  {
   "cell_type": "code",
   "execution_count": 118,
   "metadata": {},
   "outputs": [],
   "source": [
    "temp = np.ma.getdata(temp)"
   ]
  },
  {
   "cell_type": "code",
   "execution_count": 119,
   "metadata": {},
   "outputs": [
    {
     "data": {
      "text/plain": [
       "-179.75"
      ]
     },
     "execution_count": 119,
     "metadata": {},
     "output_type": "execute_result"
    }
   ],
   "source": [
    "lon[0]"
   ]
  },
  {
   "cell_type": "code",
   "execution_count": 122,
   "metadata": {},
   "outputs": [
    {
     "data": {
      "text/plain": [
       "-25.866666158040363"
      ]
     },
     "execution_count": 122,
     "metadata": {},
     "output_type": "execute_result"
    }
   ],
   "source": [
    "np.min(temp)"
   ]
  },
  {
   "cell_type": "code",
   "execution_count": 123,
   "metadata": {},
   "outputs": [],
   "source": [
    "lons, lats = np.meshgrid(lon, lat)\n",
    "\n",
    "lon_all = lons.reshape(-1,)\n",
    "lat_all = lats.reshape(-1,)\n",
    "temp = temp.reshape(-1,)"
   ]
  },
  {
   "cell_type": "code",
   "execution_count": 124,
   "metadata": {},
   "outputs": [
    {
     "data": {
      "text/plain": [
       "(259200,)"
      ]
     },
     "execution_count": 124,
     "metadata": {},
     "output_type": "execute_result"
    }
   ],
   "source": [
    "lon_all.shape"
   ]
  },
  {
   "cell_type": "code",
   "execution_count": 125,
   "metadata": {},
   "outputs": [
    {
     "data": {
      "text/plain": [
       "0.0"
      ]
     },
     "execution_count": 125,
     "metadata": {},
     "output_type": "execute_result"
    }
   ],
   "source": [
    "temp[0]"
   ]
  },
  {
   "cell_type": "code",
   "execution_count": 126,
   "metadata": {},
   "outputs": [],
   "source": [
    "df_temp = pd.DataFrame({'longitude': lon_all, 'latitude': lat_all, 'temperature': temp})"
   ]
  },
  {
   "cell_type": "code",
   "execution_count": 127,
   "metadata": {},
   "outputs": [
    {
     "data": {
      "text/html": [
       "<div>\n",
       "<style scoped>\n",
       "    .dataframe tbody tr th:only-of-type {\n",
       "        vertical-align: middle;\n",
       "    }\n",
       "\n",
       "    .dataframe tbody tr th {\n",
       "        vertical-align: top;\n",
       "    }\n",
       "\n",
       "    .dataframe thead th {\n",
       "        text-align: right;\n",
       "    }\n",
       "</style>\n",
       "<table border=\"1\" class=\"dataframe\">\n",
       "  <thead>\n",
       "    <tr style=\"text-align: right;\">\n",
       "      <th></th>\n",
       "      <th>longitude</th>\n",
       "      <th>latitude</th>\n",
       "      <th>temperature</th>\n",
       "    </tr>\n",
       "  </thead>\n",
       "  <tbody>\n",
       "    <tr>\n",
       "      <th>0</th>\n",
       "      <td>-179.75</td>\n",
       "      <td>-89.75</td>\n",
       "      <td>0.0</td>\n",
       "    </tr>\n",
       "    <tr>\n",
       "      <th>1</th>\n",
       "      <td>-179.25</td>\n",
       "      <td>-89.75</td>\n",
       "      <td>0.0</td>\n",
       "    </tr>\n",
       "    <tr>\n",
       "      <th>2</th>\n",
       "      <td>-178.75</td>\n",
       "      <td>-89.75</td>\n",
       "      <td>0.0</td>\n",
       "    </tr>\n",
       "    <tr>\n",
       "      <th>3</th>\n",
       "      <td>-178.25</td>\n",
       "      <td>-89.75</td>\n",
       "      <td>0.0</td>\n",
       "    </tr>\n",
       "    <tr>\n",
       "      <th>4</th>\n",
       "      <td>-177.75</td>\n",
       "      <td>-89.75</td>\n",
       "      <td>0.0</td>\n",
       "    </tr>\n",
       "  </tbody>\n",
       "</table>\n",
       "</div>"
      ],
      "text/plain": [
       "   longitude  latitude  temperature\n",
       "0    -179.75    -89.75          0.0\n",
       "1    -179.25    -89.75          0.0\n",
       "2    -178.75    -89.75          0.0\n",
       "3    -178.25    -89.75          0.0\n",
       "4    -177.75    -89.75          0.0"
      ]
     },
     "execution_count": 127,
     "metadata": {},
     "output_type": "execute_result"
    }
   ],
   "source": [
    "df_temp.head()"
   ]
  },
  {
   "cell_type": "code",
   "execution_count": 128,
   "metadata": {},
   "outputs": [
    {
     "data": {
      "text/plain": [
       "dict_keys(['time', 'lon', 'lat', 'pr'])"
      ]
     },
     "execution_count": 128,
     "metadata": {},
     "output_type": "execute_result"
    }
   ],
   "source": [
    "file_id = Dataset('../CRU_total_precipitation_mon_0.5x0.5_global_2016_v4.03.nc')\n",
    "file_id.variables.keys()"
   ]
  },
  {
   "cell_type": "code",
   "execution_count": 133,
   "metadata": {},
   "outputs": [],
   "source": [
    "lon = file_id.variables['lon'][:]\n",
    "lat = file_id.variables['lat'][:]\n",
    "pr = file_id.variables['pr'][:]\n",
    "\n",
    "pr = np.mean(pr, axis=0)\n",
    "pr = np.ma.getdata(pr)\n",
    "\n",
    "lons, lats = np.meshgrid(lon, lat)\n",
    "\n",
    "lon_all = lons.reshape(-1,)\n",
    "lat_all = lats.reshape(-1,)\n",
    "pr = pr.reshape(-1,)\n",
    "\n",
    "df_preci = pd.DataFrame({'longitude': lon_all, 'latitude': lat_all, 'precipitation': pr})"
   ]
  },
  {
   "cell_type": "code",
   "execution_count": 134,
   "metadata": {},
   "outputs": [
    {
     "data": {
      "text/html": [
       "<div>\n",
       "<style scoped>\n",
       "    .dataframe tbody tr th:only-of-type {\n",
       "        vertical-align: middle;\n",
       "    }\n",
       "\n",
       "    .dataframe tbody tr th {\n",
       "        vertical-align: top;\n",
       "    }\n",
       "\n",
       "    .dataframe thead th {\n",
       "        text-align: right;\n",
       "    }\n",
       "</style>\n",
       "<table border=\"1\" class=\"dataframe\">\n",
       "  <thead>\n",
       "    <tr style=\"text-align: right;\">\n",
       "      <th></th>\n",
       "      <th>longitude</th>\n",
       "      <th>latitude</th>\n",
       "      <th>precipitation</th>\n",
       "    </tr>\n",
       "  </thead>\n",
       "  <tbody>\n",
       "    <tr>\n",
       "      <th>0</th>\n",
       "      <td>-179.75</td>\n",
       "      <td>-89.75</td>\n",
       "      <td>0.0</td>\n",
       "    </tr>\n",
       "    <tr>\n",
       "      <th>1</th>\n",
       "      <td>-179.25</td>\n",
       "      <td>-89.75</td>\n",
       "      <td>0.0</td>\n",
       "    </tr>\n",
       "    <tr>\n",
       "      <th>2</th>\n",
       "      <td>-178.75</td>\n",
       "      <td>-89.75</td>\n",
       "      <td>0.0</td>\n",
       "    </tr>\n",
       "    <tr>\n",
       "      <th>3</th>\n",
       "      <td>-178.25</td>\n",
       "      <td>-89.75</td>\n",
       "      <td>0.0</td>\n",
       "    </tr>\n",
       "    <tr>\n",
       "      <th>4</th>\n",
       "      <td>-177.75</td>\n",
       "      <td>-89.75</td>\n",
       "      <td>0.0</td>\n",
       "    </tr>\n",
       "  </tbody>\n",
       "</table>\n",
       "</div>"
      ],
      "text/plain": [
       "   longitude  latitude  precipitation\n",
       "0    -179.75    -89.75            0.0\n",
       "1    -179.25    -89.75            0.0\n",
       "2    -178.75    -89.75            0.0\n",
       "3    -178.25    -89.75            0.0\n",
       "4    -177.75    -89.75            0.0"
      ]
     },
     "execution_count": 134,
     "metadata": {},
     "output_type": "execute_result"
    }
   ],
   "source": [
    "df_preci.head()"
   ]
  },
  {
   "cell_type": "code",
   "execution_count": 136,
   "metadata": {},
   "outputs": [
    {
     "data": {
      "text/plain": [
       "674.8833414713541"
      ]
     },
     "execution_count": 136,
     "metadata": {},
     "output_type": "execute_result"
    }
   ],
   "source": [
    "pr.max()"
   ]
  },
  {
   "cell_type": "code",
   "execution_count": 139,
   "metadata": {},
   "outputs": [],
   "source": [
    "final_df = pd.merge(yield_df, df_temp, on=['longitude', 'latitude'], how='inner')"
   ]
  },
  {
   "cell_type": "code",
   "execution_count": 140,
   "metadata": {},
   "outputs": [],
   "source": [
    "final_df = pd.merge(final_df, df_preci, on=['longitude', 'latitude'], how='inner')"
   ]
  },
  {
   "cell_type": "code",
   "execution_count": 142,
   "metadata": {},
   "outputs": [
    {
     "data": {
      "text/html": [
       "<div>\n",
       "<style scoped>\n",
       "    .dataframe tbody tr th:only-of-type {\n",
       "        vertical-align: middle;\n",
       "    }\n",
       "\n",
       "    .dataframe tbody tr th {\n",
       "        vertical-align: top;\n",
       "    }\n",
       "\n",
       "    .dataframe thead th {\n",
       "        text-align: right;\n",
       "    }\n",
       "</style>\n",
       "<table border=\"1\" class=\"dataframe\">\n",
       "  <thead>\n",
       "    <tr style=\"text-align: right;\">\n",
       "      <th></th>\n",
       "      <th>longitude</th>\n",
       "      <th>latitude</th>\n",
       "      <th>Yield</th>\n",
       "      <th>crop</th>\n",
       "      <th>season</th>\n",
       "      <th>temperature</th>\n",
       "      <th>precipitation</th>\n",
       "    </tr>\n",
       "  </thead>\n",
       "  <tbody>\n",
       "    <tr>\n",
       "      <th>0</th>\n",
       "      <td>143.25</td>\n",
       "      <td>-36.75</td>\n",
       "      <td>1.576401</td>\n",
       "      <td>maize</td>\n",
       "      <td>major</td>\n",
       "      <td>14.849998</td>\n",
       "      <td>48.708333</td>\n",
       "    </tr>\n",
       "    <tr>\n",
       "      <th>1</th>\n",
       "      <td>143.25</td>\n",
       "      <td>-36.75</td>\n",
       "      <td>2.853506</td>\n",
       "      <td>wheat</td>\n",
       "      <td>spring</td>\n",
       "      <td>14.849998</td>\n",
       "      <td>48.708333</td>\n",
       "    </tr>\n",
       "    <tr>\n",
       "      <th>2</th>\n",
       "      <td>143.75</td>\n",
       "      <td>-36.75</td>\n",
       "      <td>2.180401</td>\n",
       "      <td>maize</td>\n",
       "      <td>major</td>\n",
       "      <td>15.358334</td>\n",
       "      <td>48.575002</td>\n",
       "    </tr>\n",
       "    <tr>\n",
       "      <th>3</th>\n",
       "      <td>143.75</td>\n",
       "      <td>-36.75</td>\n",
       "      <td>2.791603</td>\n",
       "      <td>wheat</td>\n",
       "      <td>spring</td>\n",
       "      <td>15.358334</td>\n",
       "      <td>48.575002</td>\n",
       "    </tr>\n",
       "    <tr>\n",
       "      <th>4</th>\n",
       "      <td>143.25</td>\n",
       "      <td>-36.25</td>\n",
       "      <td>1.134586</td>\n",
       "      <td>maize</td>\n",
       "      <td>major</td>\n",
       "      <td>16.258334</td>\n",
       "      <td>39.883334</td>\n",
       "    </tr>\n",
       "    <tr>\n",
       "      <th>...</th>\n",
       "      <td>...</td>\n",
       "      <td>...</td>\n",
       "      <td>...</td>\n",
       "      <td>...</td>\n",
       "      <td>...</td>\n",
       "      <td>...</td>\n",
       "      <td>...</td>\n",
       "    </tr>\n",
       "    <tr>\n",
       "      <th>24024</th>\n",
       "      <td>15.75</td>\n",
       "      <td>57.75</td>\n",
       "      <td>8.024502</td>\n",
       "      <td>wheat</td>\n",
       "      <td>winter</td>\n",
       "      <td>7.191667</td>\n",
       "      <td>45.625000</td>\n",
       "    </tr>\n",
       "    <tr>\n",
       "      <th>24025</th>\n",
       "      <td>25.75</td>\n",
       "      <td>57.75</td>\n",
       "      <td>2.422267</td>\n",
       "      <td>wheat</td>\n",
       "      <td>winter</td>\n",
       "      <td>6.716667</td>\n",
       "      <td>56.700002</td>\n",
       "    </tr>\n",
       "    <tr>\n",
       "      <th>24026</th>\n",
       "      <td>15.25</td>\n",
       "      <td>58.25</td>\n",
       "      <td>7.755891</td>\n",
       "      <td>wheat</td>\n",
       "      <td>winter</td>\n",
       "      <td>7.183334</td>\n",
       "      <td>44.000000</td>\n",
       "    </tr>\n",
       "    <tr>\n",
       "      <th>24027</th>\n",
       "      <td>15.75</td>\n",
       "      <td>58.25</td>\n",
       "      <td>7.074670</td>\n",
       "      <td>wheat</td>\n",
       "      <td>winter</td>\n",
       "      <td>7.316667</td>\n",
       "      <td>43.125000</td>\n",
       "    </tr>\n",
       "    <tr>\n",
       "      <th>24028</th>\n",
       "      <td>16.25</td>\n",
       "      <td>58.25</td>\n",
       "      <td>7.885511</td>\n",
       "      <td>wheat</td>\n",
       "      <td>winter</td>\n",
       "      <td>7.533333</td>\n",
       "      <td>42.024999</td>\n",
       "    </tr>\n",
       "  </tbody>\n",
       "</table>\n",
       "<p>24029 rows × 7 columns</p>\n",
       "</div>"
      ],
      "text/plain": [
       "       longitude  latitude     Yield   crop  season  temperature  \\\n",
       "0         143.25    -36.75  1.576401  maize   major    14.849998   \n",
       "1         143.25    -36.75  2.853506  wheat  spring    14.849998   \n",
       "2         143.75    -36.75  2.180401  maize   major    15.358334   \n",
       "3         143.75    -36.75  2.791603  wheat  spring    15.358334   \n",
       "4         143.25    -36.25  1.134586  maize   major    16.258334   \n",
       "...          ...       ...       ...    ...     ...          ...   \n",
       "24024      15.75     57.75  8.024502  wheat  winter     7.191667   \n",
       "24025      25.75     57.75  2.422267  wheat  winter     6.716667   \n",
       "24026      15.25     58.25  7.755891  wheat  winter     7.183334   \n",
       "24027      15.75     58.25  7.074670  wheat  winter     7.316667   \n",
       "24028      16.25     58.25  7.885511  wheat  winter     7.533333   \n",
       "\n",
       "       precipitation  \n",
       "0          48.708333  \n",
       "1          48.708333  \n",
       "2          48.575002  \n",
       "3          48.575002  \n",
       "4          39.883334  \n",
       "...              ...  \n",
       "24024      45.625000  \n",
       "24025      56.700002  \n",
       "24026      44.000000  \n",
       "24027      43.125000  \n",
       "24028      42.024999  \n",
       "\n",
       "[24029 rows x 7 columns]"
      ]
     },
     "execution_count": 142,
     "metadata": {},
     "output_type": "execute_result"
    }
   ],
   "source": [
    "final_df"
   ]
  },
  {
   "cell_type": "code",
   "execution_count": null,
   "metadata": {},
   "outputs": [],
   "source": []
  }
 ],
 "metadata": {
  "kernelspec": {
   "display_name": "Python 3",
   "language": "python",
   "name": "python3"
  },
  "language_info": {
   "codemirror_mode": {
    "name": "ipython",
    "version": 3
   },
   "file_extension": ".py",
   "mimetype": "text/x-python",
   "name": "python",
   "nbconvert_exporter": "python",
   "pygments_lexer": "ipython3",
   "version": "3.10.12"
  }
 },
 "nbformat": 4,
 "nbformat_minor": 2
}
